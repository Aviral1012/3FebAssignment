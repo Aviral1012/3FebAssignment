{
 "cells": [
  {
   "cell_type": "code",
   "execution_count": 2,
   "id": "c3952046-66db-41e7-8673-b797a34e3d90",
   "metadata": {},
   "outputs": [
    {
     "name": "stdout",
     "output_type": "stream",
     "text": [
      "1\n",
      "3\n",
      "5\n",
      "7\n",
      "9\n",
      "11\n",
      "13\n",
      "15\n",
      "17\n",
      "19\n",
      "21\n",
      "23\n",
      "25\n"
     ]
    }
   ],
   "source": [
    "                                                                     #SOLUTION 1\n",
    "#def keyword is used for create a function\n",
    "\n",
    "def odd():\n",
    "    for i in range(1,26):\n",
    "        if i%2==0:\n",
    "            continue\n",
    "        else:\n",
    "            print(i)\n",
    "           \n",
    "odd()                "
   ]
  },
  {
   "cell_type": "code",
   "execution_count": 14,
   "id": "06d472a9-f94e-41db-81cb-23abd433f3df",
   "metadata": {},
   "outputs": [
    {
     "name": "stdout",
     "output_type": "stream",
     "text": [
      "(1, 2, 3, 'aviral', [1, 2, 3])\n",
      "<class 'function'>\n",
      "{'a': 1, 'b': 2, 'c': 3, 'd': [1, 2, 3]}\n",
      "<class 'function'>\n"
     ]
    }
   ],
   "source": [
    "                                                                    #SOLUTION 2\n",
    "# *args is used in function when input is passing in function it automatically convert it into a Tuple form\n",
    "# **args is used in function when input is passing in function it automatically convert it into a Dictionary form\n",
    "def name(*args):\n",
    "    print(args)\n",
    "name(1,2,3,\"aviral\",[1,2,3]) \n",
    "print(type(name))\n",
    "\n",
    "def fan(**args):\n",
    "    print(args)\n",
    "fan(a=1,b=2,c=3,d=[1,2,3])\n",
    "print(type(fan))"
   ]
  },
  {
   "cell_type": "code",
   "execution_count": 2,
   "id": "bf171970-dd28-45a6-b8fb-216f4a093c45",
   "metadata": {},
   "outputs": [
    {
     "name": "stdout",
     "output_type": "stream",
     "text": [
      "2\n",
      "4\n",
      "6\n",
      "8\n",
      "10\n"
     ]
    }
   ],
   "source": [
    "                                                                   #SOLUTION 3\n",
    "#Iterator in python is way so that we can iterate the iterable object like list,tuple and sets\n",
    "#iter() is used for initialise the iterator object and next() method is used for iteration\n",
    "l=[2, 4, 6, 8, 10, 12, 14,16, 18, 20]\n",
    "ite=iter(l)\n",
    "for i in range(5):\n",
    "    print(next(ite))    "
   ]
  },
  {
   "cell_type": "code",
   "execution_count": 23,
   "id": "8eac2532-0dcc-4fb5-8597-97271012cdaa",
   "metadata": {},
   "outputs": [
    {
     "name": "stdout",
     "output_type": "stream",
     "text": [
      "0\n",
      "1\n",
      "2\n",
      "3\n",
      "4\n",
      "5\n",
      "6\n",
      "7\n",
      "8\n",
      "9\n"
     ]
    }
   ],
   "source": [
    "                                                              #SOLUTION 4\n",
    "#GENERATOR FUNCTION is a fuction which not return a single value it return a iterator object\n",
    "#YIELD keyword is used in function so that it can return a genrator object and it only pause the process but return will terminate the process\n",
    "def genr(n):\n",
    "    for i in range(n):\n",
    "        yield i\n",
    "it=genr(10)\n",
    "for i in range(10):\n",
    "    print(next(it))"
   ]
  },
  {
   "cell_type": "code",
   "execution_count": 18,
   "id": "f094ae9c-5486-436c-9625-35be3805ab05",
   "metadata": {},
   "outputs": [
    {
     "name": "stdout",
     "output_type": "stream",
     "text": [
      "2\n",
      "3\n",
      "5\n",
      "7\n",
      "11\n",
      "13\n",
      "17\n",
      "19\n",
      "23\n",
      "29\n",
      "31\n",
      "37\n",
      "41\n",
      "43\n",
      "47\n",
      "53\n",
      "59\n",
      "61\n",
      "67\n",
      "71\n"
     ]
    }
   ],
   "source": [
    "                                                            #SOLUTION 5\n",
    "def gen(n):\n",
    "    for i in range(2,1000):\n",
    "        count=0\n",
    "        for j in range(2,i+1):\n",
    "            if(i%j==0):\n",
    "                count=count+1\n",
    "        if(count==1):\n",
    "            yield i\n",
    "          \n",
    "n=gen(20)\n",
    "for i in range(20):\n",
    "    print(next(n))\n",
    "            \n",
    "            "
   ]
  },
  {
   "cell_type": "code",
   "execution_count": 2,
   "id": "c39af6b2-edcb-4599-85b4-0cfe13dfa089",
   "metadata": {},
   "outputs": [
    {
     "name": "stdout",
     "output_type": "stream",
     "text": [
      "0\n",
      "1\n",
      "1\n",
      "2\n",
      "3\n",
      "5\n",
      "8\n",
      "13\n",
      "21\n",
      "34\n"
     ]
    }
   ],
   "source": [
    "                                                         #SOLUTION 6\n",
    "a,b=0,1\n",
    "n=10\n",
    "print(a)\n",
    "print(b)\n",
    "while n-2:\n",
    "    a=a+b\n",
    "    print(a)\n",
    "    c=a\n",
    "    a=b\n",
    "    b=c\n",
    "    n=n-1"
   ]
  },
  {
   "cell_type": "code",
   "execution_count": 5,
   "id": "bf094472-3ca9-4a54-b6ab-541cf09b3f51",
   "metadata": {},
   "outputs": [
    {
     "data": {
      "text/plain": [
       "['p', 'w', 's', 'k', 'i', 'l', 'l', 's']"
      ]
     },
     "execution_count": 5,
     "metadata": {},
     "output_type": "execute_result"
    }
   ],
   "source": [
    "                                                            #SOLUTION 7\n",
    "[i for i in \"pwskills\"]"
   ]
  },
  {
   "cell_type": "code",
   "execution_count": 18,
   "id": "f95772bb-4d0a-41c9-b399-3ba46716d7bb",
   "metadata": {},
   "outputs": [
    {
     "name": "stdin",
     "output_type": "stream",
     "text": [
      "enter the no= 56565\n"
     ]
    },
    {
     "name": "stdout",
     "output_type": "stream",
     "text": [
      "Palindrome\n"
     ]
    }
   ],
   "source": [
    "                                                            #SOLUTION 8                                                         \n",
    "n=int(input(\"enter the no=\"))\n",
    "temp=n\n",
    "rev=0\n",
    "while(n>0):\n",
    "    dig=n%10\n",
    "    rev=rev*10+dig\n",
    "    n=n//10\n",
    "if(temp==rev):\n",
    "    print(\"Palindrome\")\n",
    "else:\n",
    "    print(\"not Palindrome\")\n",
    "    \n",
    "    "
   ]
  },
  {
   "cell_type": "code",
   "execution_count": 22,
   "id": "dd249c98-b9d8-4984-93a9-12fa30c37c3d",
   "metadata": {},
   "outputs": [
    {
     "data": {
      "text/plain": [
       "[1,\n",
       " 3,\n",
       " 5,\n",
       " 7,\n",
       " 9,\n",
       " 11,\n",
       " 13,\n",
       " 15,\n",
       " 17,\n",
       " 19,\n",
       " 21,\n",
       " 23,\n",
       " 25,\n",
       " 27,\n",
       " 29,\n",
       " 31,\n",
       " 33,\n",
       " 35,\n",
       " 37,\n",
       " 39,\n",
       " 41,\n",
       " 43,\n",
       " 45,\n",
       " 47,\n",
       " 49,\n",
       " 51,\n",
       " 53,\n",
       " 55,\n",
       " 57,\n",
       " 59,\n",
       " 61,\n",
       " 63,\n",
       " 65,\n",
       " 67,\n",
       " 69,\n",
       " 71,\n",
       " 73,\n",
       " 75,\n",
       " 77,\n",
       " 79,\n",
       " 81,\n",
       " 83,\n",
       " 85,\n",
       " 87,\n",
       " 89,\n",
       " 91,\n",
       " 93,\n",
       " 95,\n",
       " 97,\n",
       " 99]"
      ]
     },
     "execution_count": 22,
     "metadata": {},
     "output_type": "execute_result"
    }
   ],
   "source": [
    "                                                                #SOLUTION 9\n",
    "[i for i in range(1,101) if i%2 == 1 ]"
   ]
  },
  {
   "cell_type": "code",
   "execution_count": null,
   "id": "5b0fd62e-c7f5-4ca6-83bf-abae421c898f",
   "metadata": {},
   "outputs": [],
   "source": []
  }
 ],
 "metadata": {
  "kernelspec": {
   "display_name": "Python 3 (ipykernel)",
   "language": "python",
   "name": "python3"
  },
  "language_info": {
   "codemirror_mode": {
    "name": "ipython",
    "version": 3
   },
   "file_extension": ".py",
   "mimetype": "text/x-python",
   "name": "python",
   "nbconvert_exporter": "python",
   "pygments_lexer": "ipython3",
   "version": "3.10.6"
  }
 },
 "nbformat": 4,
 "nbformat_minor": 5
}
